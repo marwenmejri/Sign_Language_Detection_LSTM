{
 "cells": [
  {
   "cell_type": "markdown",
   "metadata": {},
   "source": [
    "#  Import Dependencies"
   ]
  },
  {
   "cell_type": "code",
   "execution_count": 1,
   "metadata": {},
   "outputs": [],
   "source": [
    "import cv2\n",
    "import numpy as np\n",
    "import mediapipe as mp\n",
    "import os\n",
    "import time\n",
    "from matplotlib import pyplot as plt\n",
    "import tensorflow as tf\n",
    "import sklearn"
   ]
  },
  {
   "cell_type": "markdown",
   "metadata": {},
   "source": [
    "# Extract Keypoints using MP Holistic"
   ]
  },
  {
   "cell_type": "code",
   "execution_count": 2,
   "metadata": {},
   "outputs": [],
   "source": [
    "mp_holistic = mp.solutions.holistic  # Holistic model\n",
    "mp_drawing = mp.solutions.drawing_utils  # Drawing utilities"
   ]
  },
  {
   "cell_type": "code",
   "execution_count": 3,
   "metadata": {},
   "outputs": [],
   "source": [
    "def mediapipe_detection(image, model):\n",
    "    image = cv2.cvtColor(image, cv2.COLOR_BGR2RGB)\n",
    "    image.flags.writeable = False\n",
    "    results = model.process(image)\n",
    "    image.flags.writeable = True\n",
    "    image = cv2.cvtColor(image, cv2.COLOR_RGB2BGR)\n",
    "    return image, results"
   ]
  },
  {
   "cell_type": "code",
   "execution_count": 4,
   "metadata": {},
   "outputs": [],
   "source": [
    "def draw_landmarks(image, results):\n",
    "    mp_drawing.draw_landmarks(image, results.face_landmarks, mp_holistic.FACEMESH_TESSELATION) # Draw face connections\n",
    "    mp_drawing.draw_landmarks(image, results.pose_landmarks, mp_holistic.POSE_CONNECTIONS) # Draw pose connections\n",
    "    mp_drawing.draw_landmarks(image, results.left_hand_landmarks, mp_holistic.HAND_CONNECTIONS) # Draw left hand connections\n",
    "    mp_drawing.draw_landmarks(image, results.right_hand_landmarks, mp_holistic.HAND_CONNECTIONS) # Draw right hand connections"
   ]
  },
  {
   "cell_type": "code",
   "execution_count": 5,
   "metadata": {},
   "outputs": [],
   "source": [
    "def draw_styled_landmarks(image, results):\n",
    "    # Draw face connections\n",
    "    mp_drawing.draw_landmarks(image, results.face_landmarks, mp_holistic.FACEMESH_TESSELATION, \n",
    "                             mp_drawing.DrawingSpec(color=(80,110,10), thickness=1, circle_radius=1), \n",
    "                             mp_drawing.DrawingSpec(color=(80,256,121), thickness=1, circle_radius=1)\n",
    "                             ) \n",
    "    # Draw pose connections\n",
    "    mp_drawing.draw_landmarks(image, results.pose_landmarks, mp_holistic.POSE_CONNECTIONS,\n",
    "                             mp_drawing.DrawingSpec(color=(80,22,10), thickness=2, circle_radius=4), \n",
    "                             mp_drawing.DrawingSpec(color=(80,44,121), thickness=2, circle_radius=2)\n",
    "                             ) \n",
    "    # Draw left hand connections\n",
    "    mp_drawing.draw_landmarks(image, results.left_hand_landmarks, mp_holistic.HAND_CONNECTIONS, \n",
    "                             mp_drawing.DrawingSpec(color=(121,22,76), thickness=2, circle_radius=4), \n",
    "                             mp_drawing.DrawingSpec(color=(121,44,250), thickness=2, circle_radius=2)\n",
    "                             ) \n",
    "    # Draw right hand connections  \n",
    "    mp_drawing.draw_landmarks(image, results.right_hand_landmarks, mp_holistic.HAND_CONNECTIONS, \n",
    "                             mp_drawing.DrawingSpec(color=(245,117,66), thickness=2, circle_radius=4), \n",
    "                             mp_drawing.DrawingSpec(color=(245,66,230), thickness=2, circle_radius=2)\n",
    "                             )"
   ]
  },
  {
   "cell_type": "code",
   "execution_count": 8,
   "metadata": {},
   "outputs": [],
   "source": [
    "cap = cv2.VideoCapture(0)\n",
    "with mp_holistic.Holistic(min_detection_confidence=0.5, min_tracking_confidence=0.5) as holistic:\n",
    "    while cap.isOpened():\n",
    "        #Read Feed\n",
    "        ret, frame = cap.read()\n",
    "\n",
    "        #Make detection\n",
    "        image, results = mediapipe_detection(frame, holistic)\n",
    "#         print(results)\n",
    "        \n",
    "        #Draw Landamrks\n",
    "        draw_styled_landmarks(frame, results)\n",
    "\n",
    "        cv2.imshow(\"Cam Feed\", frame)\n",
    "\n",
    "        if cv2.waitKey(10) & 0xFF == ord(\"q\"):\n",
    "            break\n",
    "\n",
    "cap.release()\n",
    "cv2.destroyAllWindows()"
   ]
  },
  {
   "cell_type": "markdown",
   "metadata": {},
   "source": [
    "# 3. Extract Keypoint Values"
   ]
  },
  {
   "cell_type": "code",
   "execution_count": 9,
   "metadata": {},
   "outputs": [
    {
     "data": {
      "text/plain": [
       "array([0.68432552, 0.35918081, 0.02223108])"
      ]
     },
     "execution_count": 9,
     "metadata": {},
     "output_type": "execute_result"
    }
   ],
   "source": [
    "for res in results.face_landmarks.landmark:\n",
    "    test = np.array([res.x, res.y, res.z])\n",
    "test"
   ]
  },
  {
   "cell_type": "code",
   "execution_count": 10,
   "metadata": {},
   "outputs": [],
   "source": [
    "face = np.array([[res.x, res.y, res.z] for res in results.face_landmarks.landmark]).flatten() if results.face_landmarks else np.zeros(468*3)\n",
    "pose = np.array([[res.x, res.y, res.z, res.visibility] for res in results.pose_landmarks.landmark]).flatten() if results.pose_landmarks else np.zeros(33*4)\n",
    "lh = np.array([[res.x, res.y, res.z] for res in results.left_hand_landmarks.landmark]).flatten() if results.left_hand_landmarks else np.zeros(21*3)\n",
    "rh = np.array([[res.x, res.y, res.z] for res in results.right_hand_landmarks.landmark]).flatten() if results.right_hand_landmarks else np.zeros(21*3)"
   ]
  },
  {
   "cell_type": "code",
   "execution_count": 15,
   "metadata": {},
   "outputs": [
    {
     "data": {
      "text/plain": [
       "33"
      ]
     },
     "execution_count": 15,
     "metadata": {},
     "output_type": "execute_result"
    }
   ],
   "source": [
    "len(results.pose_landmarks.landmark)"
   ]
  },
  {
   "cell_type": "code",
   "execution_count": 12,
   "metadata": {},
   "outputs": [
    {
     "data": {
      "text/plain": [
       "33"
      ]
     },
     "execution_count": 12,
     "metadata": {},
     "output_type": "execute_result"
    }
   ],
   "source": [
    "len(results.pose_landmarks.landmark)"
   ]
  },
  {
   "cell_type": "code",
   "execution_count": 6,
   "metadata": {},
   "outputs": [],
   "source": [
    "def extract_keypoints(results):\n",
    "    face = np.array([[res.x, res.y, res.z] for res in results.face_landmarks.landmark]).flatten() if results.face_landmarks else np.zeros(468*3)\n",
    "    pose = np.array([[res.x, res.y, res.z, res.visibility] for res in results.pose_landmarks.landmark]).flatten() if results.pose_landmarks else np.zeros(33*4)\n",
    "    lh = np.array([[res.x, res.y, res.z] for res in results.left_hand_landmarks.landmark]).flatten() if results.left_hand_landmarks else np.zeros(21*3)\n",
    "    rh = np.array([[res.x, res.y, res.z] for res in results.right_hand_landmarks.landmark]).flatten() if results.right_hand_landmarks else np.zeros(21*3)\n",
    "    return np.concatenate([pose, face, lh, rh])"
   ]
  },
  {
   "cell_type": "code",
   "execution_count": 17,
   "metadata": {},
   "outputs": [
    {
     "data": {
      "text/plain": [
       "(1662,)"
      ]
     },
     "execution_count": 17,
     "metadata": {},
     "output_type": "execute_result"
    }
   ],
   "source": [
    "extract_keypoints(results).shape"
   ]
  },
  {
   "cell_type": "markdown",
   "metadata": {},
   "source": [
    "# 4. Setup Folders for Collection"
   ]
  },
  {
   "cell_type": "code",
   "execution_count": 7,
   "metadata": {},
   "outputs": [],
   "source": [
    "# Path for exported data, numpy arrays\n",
    "DATA_PATH = os.path.join('MP_Data') \n",
    "\n",
    "# Actions to detect\n",
    "actions = np.array(['hello', 'thanks', 'iloveyou'])\n",
    "\n",
    "# No ° of videos per each actions\n",
    "no_sequences = 30\n",
    "\n",
    "# Videos are going to be 20 frames in length\n",
    "sequence_length = 20"
   ]
  },
  {
   "cell_type": "code",
   "execution_count": 13,
   "metadata": {},
   "outputs": [],
   "source": [
    "# Creating the folders \n",
    "for action in actions:\n",
    "    for sequence in range(no_sequences+30):\n",
    "        try:\n",
    "            os.makedirs(os.path.join(DATA_PATH, action, str(sequence)))\n",
    "        except:\n",
    "            pass"
   ]
  },
  {
   "cell_type": "markdown",
   "metadata": {},
   "source": [
    "# 5. Collect Keypoint Values for Training and Testing"
   ]
  },
  {
   "cell_type": "code",
   "execution_count": 124,
   "metadata": {},
   "outputs": [],
   "source": [
    "cap = cv2.VideoCapture(0)\n",
    "with mp_holistic.Holistic(min_detection_confidence=0.5, min_tracking_confidence=0.5) as holistic:\n",
    "    for action in actions:\n",
    "        for sequence in range(no_sequences+30):\n",
    "            for frame_num in range(sequence_length):\n",
    "        \n",
    "                #Read Feed\n",
    "                ret, frame = cap.read()\n",
    "\n",
    "                #Make detection\n",
    "                image, results = mediapipe_detection(frame, holistic)\n",
    "\n",
    "                #Draw Landamrks\n",
    "                draw_styled_landmarks(image, results)\n",
    "                \n",
    "                # Apply collection logic\n",
    "                if frame_num == 0:\n",
    "                    cv2.putText(image, \"Starting Collections\", (40, 50), \n",
    "                                cv2.FONT_HERSHEY_SIMPLEX, 1, (0,255,0), 2, cv2.LINE_AA)\n",
    "                    cv2.putText(image, f\"Collecting frame for {action} video number {sequence}\", (60, 70), \n",
    "                                cv2.FONT_HERSHEY_SIMPLEX, 0.5, (0, 0, 255), 1, cv2.LINE_AA)\n",
    "                    cv2.imshow(\"Cam Feed\", image)\n",
    "                    cv2.waitKey(1000)\n",
    "                else:\n",
    "                    cv2.putText(image, f\"Collecting frame for {action} video number {sequence}\", (60, 70), \n",
    "                                cv2.FONT_HERSHEY_SIMPLEX, 0.5, (0, 0, 255), 1, cv2.LINE_AA)\n",
    "                    cv2.imshow(\"Cam Feed\", image)\n",
    "                \n",
    "                keypoints = extract_keypoints(results)\n",
    "                np_path = os.path.join(DATA_PATH, action, str(sequence), str(frame_num))\n",
    "                np.save(np_path, keypoints)\n",
    "                \n",
    "                \n",
    "                if cv2.waitKey(10) & 0xFF == ord(\"q\"):\n",
    "                    break\n",
    "\n",
    "cap.release()\n",
    "cv2.destroyAllWindows()"
   ]
  },
  {
   "cell_type": "code",
   "execution_count": 116,
   "metadata": {},
   "outputs": [],
   "source": [
    "cap.release()\n",
    "cv2.destroyAllWindows()"
   ]
  },
  {
   "cell_type": "markdown",
   "metadata": {},
   "source": [
    "# 6. Preprocessing ==> Labels and Features"
   ]
  },
  {
   "cell_type": "code",
   "execution_count": 9,
   "metadata": {},
   "outputs": [],
   "source": [
    "from sklearn.model_selection import train_test_split\n",
    "from tensorflow.keras.utils import to_categorical"
   ]
  },
  {
   "cell_type": "code",
   "execution_count": 14,
   "metadata": {
    "scrolled": true
   },
   "outputs": [
    {
     "data": {
      "text/plain": [
       "{'hello': 0, 'thanks': 1, 'iloveyou': 2}"
      ]
     },
     "execution_count": 14,
     "metadata": {},
     "output_type": "execute_result"
    }
   ],
   "source": [
    "label_map = {label:num for num, label in enumerate(actions)}\n",
    "label_map"
   ]
  },
  {
   "cell_type": "code",
   "execution_count": 15,
   "metadata": {},
   "outputs": [
    {
     "data": {
      "text/plain": [
       "array(['hello', 'thanks', 'iloveyou'], dtype='<U8')"
      ]
     },
     "execution_count": 15,
     "metadata": {},
     "output_type": "execute_result"
    }
   ],
   "source": [
    "actions"
   ]
  },
  {
   "cell_type": "code",
   "execution_count": 17,
   "metadata": {},
   "outputs": [],
   "source": [
    "Data, Labels = [], []\n",
    "for action in actions:\n",
    "    for sequence in range(no_sequences+30):\n",
    "        Z = []\n",
    "        for frame_num in range(sequence_length):\n",
    "            res_frame = np.load(os.path.join(DATA_PATH, action, str(sequence), f\"{frame_num}.npy\"))\n",
    "            Z.append(res_frame)\n",
    "        Data.append(Z)\n",
    "        Labels.append(label_map[action])"
   ]
  },
  {
   "cell_type": "code",
   "execution_count": 18,
   "metadata": {},
   "outputs": [
    {
     "data": {
      "text/plain": [
       "(180, 20, 1662)"
      ]
     },
     "execution_count": 18,
     "metadata": {},
     "output_type": "execute_result"
    }
   ],
   "source": [
    "# Y = np.array(Labels)\n",
    "X = np.array(Data)\n",
    "X.shape"
   ]
  },
  {
   "cell_type": "code",
   "execution_count": 19,
   "metadata": {
    "scrolled": false
   },
   "outputs": [
    {
     "data": {
      "text/plain": [
       "(180, 3)"
      ]
     },
     "execution_count": 19,
     "metadata": {},
     "output_type": "execute_result"
    }
   ],
   "source": [
    "Y = to_categorical(Labels).astype(int)\n",
    "Y.shape"
   ]
  },
  {
   "cell_type": "code",
   "execution_count": 20,
   "metadata": {},
   "outputs": [],
   "source": [
    "X_train, X_test, y_train, y_test = train_test_split(X, Y, test_size=0.05)"
   ]
  },
  {
   "cell_type": "code",
   "execution_count": 21,
   "metadata": {},
   "outputs": [
    {
     "data": {
      "text/plain": [
       "((9, 20, 1662), (171, 20, 1662), (171, 3), (9, 3))"
      ]
     },
     "execution_count": 21,
     "metadata": {},
     "output_type": "execute_result"
    }
   ],
   "source": [
    "X_test.shape, X_train.shape, y_train.shape, y_test.shape"
   ]
  },
  {
   "cell_type": "code",
   "execution_count": 22,
   "metadata": {},
   "outputs": [
    {
     "data": {
      "text/plain": [
       "1662"
      ]
     },
     "execution_count": 22,
     "metadata": {},
     "output_type": "execute_result"
    }
   ],
   "source": [
    "len(X_test[0][0])"
   ]
  },
  {
   "cell_type": "markdown",
   "metadata": {},
   "source": [
    "# 7. Build and Train LSTM Neural Network"
   ]
  },
  {
   "cell_type": "code",
   "execution_count": 23,
   "metadata": {},
   "outputs": [],
   "source": [
    "from tensorflow.keras.layers import Dense, LSTM\n",
    "from tensorflow.keras.models import Sequential\n",
    "from tensorflow.keras.callbacks import TensorBoard"
   ]
  },
  {
   "cell_type": "code",
   "execution_count": 41,
   "metadata": {},
   "outputs": [],
   "source": [
    "log_dir = os.path.join('Logs')\n",
    "tb_callback = TensorBoard(log_dir=log_dir)"
   ]
  },
  {
   "cell_type": "code",
   "execution_count": 42,
   "metadata": {},
   "outputs": [],
   "source": [
    "model = Sequential()\n",
    "model.add(LSTM(64, return_sequences=True, activation='relu', input_shape=(20,1662)))\n",
    "model.add(LSTM(128, return_sequences=True, activation='relu'))\n",
    "model.add(LSTM(64, return_sequences=False, activation='relu'))\n",
    "model.add(Dense(64, activation='relu'))\n",
    "model.add(Dense(32, activation='relu'))\n",
    "model.add(Dense(actions.shape[0], activation='softmax'))"
   ]
  },
  {
   "cell_type": "code",
   "execution_count": 43,
   "metadata": {},
   "outputs": [
    {
     "data": {
      "text/plain": [
       "(3, 3)"
      ]
     },
     "execution_count": 43,
     "metadata": {},
     "output_type": "execute_result"
    }
   ],
   "source": [
    "len(label_map), actions.shape[0]"
   ]
  },
  {
   "cell_type": "code",
   "execution_count": 44,
   "metadata": {},
   "outputs": [],
   "source": [
    "model.compile(optimizer='Adam', loss='categorical_crossentropy', metrics=['accuracy'])"
   ]
  },
  {
   "cell_type": "code",
   "execution_count": 45,
   "metadata": {},
   "outputs": [
    {
     "name": "stdout",
     "output_type": "stream",
     "text": [
      "Model: \"sequential_4\"\n",
      "_________________________________________________________________\n",
      "Layer (type)                 Output Shape              Param #   \n",
      "=================================================================\n",
      "lstm_12 (LSTM)               (None, 20, 64)            442112    \n",
      "_________________________________________________________________\n",
      "lstm_13 (LSTM)               (None, 20, 128)           98816     \n",
      "_________________________________________________________________\n",
      "lstm_14 (LSTM)               (None, 64)                49408     \n",
      "_________________________________________________________________\n",
      "dense_12 (Dense)             (None, 64)                4160      \n",
      "_________________________________________________________________\n",
      "dense_13 (Dense)             (None, 32)                2080      \n",
      "_________________________________________________________________\n",
      "dense_14 (Dense)             (None, 3)                 99        \n",
      "=================================================================\n",
      "Total params: 596,675\n",
      "Trainable params: 596,675\n",
      "Non-trainable params: 0\n",
      "_________________________________________________________________\n"
     ]
    }
   ],
   "source": [
    "model.summary()"
   ]
  },
  {
   "cell_type": "code",
   "execution_count": 46,
   "metadata": {
    "scrolled": false
   },
   "outputs": [
    {
     "name": "stdout",
     "output_type": "stream",
     "text": [
      "Epoch 1/100\n",
      "6/6 [==============================] - 27s 2s/step - loss: 1.1492 - accuracy: 0.3158\n",
      "Epoch 2/100\n",
      "6/6 [==============================] - 0s 83ms/step - loss: 1.0525 - accuracy: 0.3626\n",
      "Epoch 3/100\n",
      "6/6 [==============================] - 1s 89ms/step - loss: 1.3175 - accuracy: 0.3275\n",
      "Epoch 4/100\n",
      "6/6 [==============================] - 0s 81ms/step - loss: 1.0624 - accuracy: 0.4795\n",
      "Epoch 5/100\n",
      "6/6 [==============================] - 1s 96ms/step - loss: 1.0836 - accuracy: 0.4854\n",
      "Epoch 6/100\n",
      "6/6 [==============================] - 1s 95ms/step - loss: 0.9001 - accuracy: 0.5556\n",
      "Epoch 7/100\n",
      "6/6 [==============================] - 0s 76ms/step - loss: 0.8766 - accuracy: 0.5146\n",
      "Epoch 8/100\n",
      "6/6 [==============================] - 0s 71ms/step - loss: 0.7002 - accuracy: 0.6023\n",
      "Epoch 9/100\n",
      "6/6 [==============================] - 0s 77ms/step - loss: 0.6049 - accuracy: 0.6374\n",
      "Epoch 10/100\n",
      "6/6 [==============================] - 0s 75ms/step - loss: 0.5587 - accuracy: 0.6725\n",
      "Epoch 11/100\n",
      "6/6 [==============================] - 1s 87ms/step - loss: 0.5564 - accuracy: 0.6725 0s - loss: 0.5106 - accuracy: \n",
      "Epoch 12/100\n",
      "6/6 [==============================] - 1s 84ms/step - loss: 0.4472 - accuracy: 0.7953\n",
      "Epoch 13/100\n",
      "6/6 [==============================] - 0s 77ms/step - loss: 0.7213 - accuracy: 0.6608\n",
      "Epoch 14/100\n",
      "6/6 [==============================] - 0s 69ms/step - loss: 0.8635 - accuracy: 0.5731\n",
      "Epoch 15/100\n",
      "6/6 [==============================] - 0s 70ms/step - loss: 1.2321 - accuracy: 0.5848\n",
      "Epoch 16/100\n",
      "6/6 [==============================] - 1s 83ms/step - loss: 0.7584 - accuracy: 0.5906\n",
      "Epoch 17/100\n",
      "6/6 [==============================] - 0s 75ms/step - loss: 0.9993 - accuracy: 0.5497\n",
      "Epoch 18/100\n",
      "6/6 [==============================] - 1s 92ms/step - loss: 0.7493 - accuracy: 0.6608\n",
      "Epoch 19/100\n",
      "6/6 [==============================] - 1s 94ms/step - loss: 0.6066 - accuracy: 0.6842\n",
      "Epoch 20/100\n",
      "6/6 [==============================] - 0s 77ms/step - loss: 0.6842 - accuracy: 0.6374\n",
      "Epoch 21/100\n",
      "6/6 [==============================] - 1s 87ms/step - loss: 0.6992 - accuracy: 0.7076\n",
      "Epoch 22/100\n",
      "6/6 [==============================] - 1s 91ms/step - loss: 0.6564 - accuracy: 0.6433\n",
      "Epoch 23/100\n",
      "6/6 [==============================] - 0s 85ms/step - loss: 0.5804 - accuracy: 0.6316\n",
      "Epoch 24/100\n",
      "6/6 [==============================] - 1s 96ms/step - loss: 0.5326 - accuracy: 0.6491\n",
      "Epoch 25/100\n",
      "6/6 [==============================] - 1s 99ms/step - loss: 0.5095 - accuracy: 0.7427\n",
      "Epoch 26/100\n",
      "6/6 [==============================] - 0s 77ms/step - loss: 0.4981 - accuracy: 0.7193\n",
      "Epoch 27/100\n",
      "6/6 [==============================] - 1s 90ms/step - loss: 0.5107 - accuracy: 0.7135\n",
      "Epoch 28/100\n",
      "6/6 [==============================] - 0s 81ms/step - loss: 0.4829 - accuracy: 0.7310\n",
      "Epoch 29/100\n",
      "6/6 [==============================] - 1s 89ms/step - loss: 0.4715 - accuracy: 0.7251\n",
      "Epoch 30/100\n",
      "6/6 [==============================] - 0s 70ms/step - loss: 0.4509 - accuracy: 0.7836\n",
      "Epoch 31/100\n",
      "6/6 [==============================] - 0s 69ms/step - loss: 0.3617 - accuracy: 0.8655\n",
      "Epoch 32/100\n",
      "6/6 [==============================] - 0s 81ms/step - loss: 0.6009 - accuracy: 0.7076\n",
      "Epoch 33/100\n",
      "6/6 [==============================] - 1s 88ms/step - loss: 0.4978 - accuracy: 0.6901\n",
      "Epoch 34/100\n",
      "6/6 [==============================] - 1s 89ms/step - loss: 0.4383 - accuracy: 0.8480\n",
      "Epoch 35/100\n",
      "6/6 [==============================] - 1s 85ms/step - loss: 0.4022 - accuracy: 0.7544\n",
      "Epoch 36/100\n",
      "6/6 [==============================] - 0s 76ms/step - loss: 0.3593 - accuracy: 0.9064\n",
      "Epoch 37/100\n",
      "6/6 [==============================] - 0s 82ms/step - loss: 0.2757 - accuracy: 0.9474\n",
      "Epoch 38/100\n",
      "6/6 [==============================] - 0s 78ms/step - loss: 0.2295 - accuracy: 0.8889\n",
      "Epoch 39/100\n",
      "6/6 [==============================] - 0s 77ms/step - loss: 0.3263 - accuracy: 0.8713\n",
      "Epoch 40/100\n",
      "6/6 [==============================] - 1s 91ms/step - loss: 0.2972 - accuracy: 0.8596\n",
      "Epoch 41/100\n",
      "6/6 [==============================] - 1s 88ms/step - loss: 0.2860 - accuracy: 0.8830\n",
      "Epoch 42/100\n",
      "6/6 [==============================] - 1s 99ms/step - loss: 0.2165 - accuracy: 0.9123\n",
      "Epoch 43/100\n",
      "6/6 [==============================] - 0s 76ms/step - loss: 0.2038 - accuracy: 0.9298\n",
      "Epoch 44/100\n",
      "6/6 [==============================] - 0s 68ms/step - loss: 0.1646 - accuracy: 0.9474\n",
      "Epoch 45/100\n",
      "6/6 [==============================] - 0s 73ms/step - loss: 0.1596 - accuracy: 0.9591\n",
      "Epoch 46/100\n",
      "6/6 [==============================] - 1s 97ms/step - loss: 0.2408 - accuracy: 0.8889\n",
      "Epoch 47/100\n",
      "6/6 [==============================] - 1s 89ms/step - loss: 0.1586 - accuracy: 0.9357\n",
      "Epoch 48/100\n",
      "6/6 [==============================] - 1s 89ms/step - loss: 0.1308 - accuracy: 0.9649\n",
      "Epoch 49/100\n",
      "6/6 [==============================] - 0s 80ms/step - loss: 0.1030 - accuracy: 0.9708\n",
      "Epoch 50/100\n",
      "6/6 [==============================] - 0s 75ms/step - loss: 0.0907 - accuracy: 0.9766\n",
      "Epoch 51/100\n",
      "6/6 [==============================] - 1s 85ms/step - loss: 0.0963 - accuracy: 0.9649\n",
      "Epoch 52/100\n",
      "6/6 [==============================] - 1s 87ms/step - loss: 0.1680 - accuracy: 0.9357 0s - loss: 0.1746 - accuracy: 0.\n",
      "Epoch 53/100\n",
      "6/6 [==============================] - 1s 93ms/step - loss: 0.0856 - accuracy: 0.9825\n",
      "Epoch 54/100\n",
      "6/6 [==============================] - 1s 93ms/step - loss: 0.1155 - accuracy: 0.9591\n",
      "Epoch 55/100\n",
      "6/6 [==============================] - 1s 100ms/step - loss: 0.0975 - accuracy: 0.9708\n",
      "Epoch 56/100\n",
      "6/6 [==============================] - 1s 96ms/step - loss: 0.1331 - accuracy: 0.9532\n",
      "Epoch 57/100\n",
      "6/6 [==============================] - 1s 104ms/step - loss: 0.1843 - accuracy: 0.9474\n",
      "Epoch 58/100\n",
      "6/6 [==============================] - 1s 104ms/step - loss: 0.2398 - accuracy: 0.8947\n",
      "Epoch 59/100\n",
      "6/6 [==============================] - 1s 87ms/step - loss: 0.2803 - accuracy: 0.8889\n",
      "Epoch 60/100\n",
      "6/6 [==============================] - 1s 101ms/step - loss: 0.1624 - accuracy: 0.9532\n",
      "Epoch 61/100\n",
      "6/6 [==============================] - 1s 100ms/step - loss: 0.1132 - accuracy: 0.9708\n",
      "Epoch 62/100\n",
      "6/6 [==============================] - 1s 101ms/step - loss: 0.0882 - accuracy: 0.9708\n",
      "Epoch 63/100\n",
      "6/6 [==============================] - 1s 94ms/step - loss: 0.0847 - accuracy: 0.9766\n",
      "Epoch 64/100\n",
      "6/6 [==============================] - 1s 95ms/step - loss: 0.0753 - accuracy: 0.9825\n",
      "Epoch 65/100\n",
      "6/6 [==============================] - 1s 98ms/step - loss: 0.0745 - accuracy: 0.9825\n",
      "Epoch 66/100\n",
      "6/6 [==============================] - 1s 94ms/step - loss: 0.0865 - accuracy: 0.9708\n",
      "Epoch 67/100\n",
      "6/6 [==============================] - 1s 88ms/step - loss: 0.0939 - accuracy: 0.9766\n",
      "Epoch 68/100\n",
      "6/6 [==============================] - 1s 90ms/step - loss: 0.3325 - accuracy: 0.9006\n",
      "Epoch 69/100\n",
      "6/6 [==============================] - 1s 94ms/step - loss: 0.2004 - accuracy: 0.9240\n",
      "Epoch 70/100\n",
      "6/6 [==============================] - 0s 83ms/step - loss: 0.2066 - accuracy: 0.9357\n",
      "Epoch 71/100\n",
      "6/6 [==============================] - 0s 70ms/step - loss: 0.1842 - accuracy: 0.9298\n",
      "Epoch 72/100\n",
      "6/6 [==============================] - 1s 91ms/step - loss: 0.1436 - accuracy: 0.9591\n",
      "Epoch 73/100\n",
      "6/6 [==============================] - 1s 103ms/step - loss: 0.1045 - accuracy: 0.9766\n",
      "Epoch 74/100\n",
      "6/6 [==============================] - 1s 100ms/step - loss: 0.0845 - accuracy: 0.9825\n",
      "Epoch 75/100\n",
      "6/6 [==============================] - 1s 94ms/step - loss: 0.0833 - accuracy: 0.9766\n",
      "Epoch 76/100\n",
      "6/6 [==============================] - 1s 96ms/step - loss: 0.0788 - accuracy: 0.9766\n",
      "Epoch 77/100\n",
      "6/6 [==============================] - 1s 93ms/step - loss: 0.0810 - accuracy: 0.9766\n",
      "Epoch 78/100\n",
      "6/6 [==============================] - 0s 63ms/step - loss: 0.0603 - accuracy: 0.9942\n",
      "Epoch 79/100\n",
      "6/6 [==============================] - 0s 76ms/step - loss: 0.0529 - accuracy: 0.9883\n",
      "Epoch 80/100\n",
      "6/6 [==============================] - 1s 96ms/step - loss: 0.0690 - accuracy: 0.9825\n",
      "Epoch 81/100\n",
      "6/6 [==============================] - 1s 108ms/step - loss: 0.0598 - accuracy: 0.9883\n",
      "Epoch 82/100\n",
      "6/6 [==============================] - 1s 103ms/step - loss: 0.0524 - accuracy: 0.9825\n",
      "Epoch 83/100\n"
     ]
    },
    {
     "name": "stdout",
     "output_type": "stream",
     "text": [
      "6/6 [==============================] - 1s 102ms/step - loss: 0.0516 - accuracy: 0.9883\n",
      "Epoch 84/100\n",
      "6/6 [==============================] - 1s 87ms/step - loss: 0.0462 - accuracy: 0.9825\n",
      "Epoch 85/100\n",
      "6/6 [==============================] - 0s 79ms/step - loss: 0.0431 - accuracy: 0.9942\n",
      "Epoch 86/100\n",
      "6/6 [==============================] - 0s 74ms/step - loss: 0.0406 - accuracy: 0.9942\n",
      "Epoch 87/100\n",
      "6/6 [==============================] - 0s 67ms/step - loss: 0.0424 - accuracy: 0.9942\n",
      "Epoch 88/100\n",
      "6/6 [==============================] - 0s 69ms/step - loss: 0.0405 - accuracy: 0.9883\n",
      "Epoch 89/100\n",
      "6/6 [==============================] - 1s 102ms/step - loss: 0.0374 - accuracy: 0.9942\n",
      "Epoch 90/100\n",
      "6/6 [==============================] - 1s 106ms/step - loss: 0.0356 - accuracy: 0.9942\n",
      "Epoch 91/100\n",
      "6/6 [==============================] - 1s 89ms/step - loss: 0.0354 - accuracy: 0.9942\n",
      "Epoch 92/100\n",
      "6/6 [==============================] - 1s 89ms/step - loss: 0.0360 - accuracy: 0.9942\n",
      "Epoch 93/100\n",
      "6/6 [==============================] - 1s 87ms/step - loss: 0.0435 - accuracy: 0.9883\n",
      "Epoch 94/100\n",
      "6/6 [==============================] - 1s 97ms/step - loss: 0.0772 - accuracy: 0.9708\n",
      "Epoch 95/100\n",
      "6/6 [==============================] - 1s 104ms/step - loss: 0.0993 - accuracy: 0.9649\n",
      "Epoch 96/100\n",
      "6/6 [==============================] - 1s 99ms/step - loss: 0.1745 - accuracy: 0.9298\n",
      "Epoch 97/100\n",
      "6/6 [==============================] - 1s 106ms/step - loss: 0.1013 - accuracy: 0.9591\n",
      "Epoch 98/100\n",
      "6/6 [==============================] - 1s 98ms/step - loss: 0.0740 - accuracy: 0.9766\n",
      "Epoch 99/100\n",
      "6/6 [==============================] - 1s 87ms/step - loss: 0.0561 - accuracy: 0.9825\n",
      "Epoch 100/100\n",
      "6/6 [==============================] - 0s 68ms/step - loss: 0.0404 - accuracy: 0.9942\n"
     ]
    },
    {
     "data": {
      "text/plain": [
       "<keras.callbacks.History at 0x23e955db3a0>"
      ]
     },
     "execution_count": 46,
     "metadata": {},
     "output_type": "execute_result"
    }
   ],
   "source": [
    "model.fit(X_train, y_train, epochs=100,batch_size=32, callbacks=[tb_callback])"
   ]
  },
  {
   "cell_type": "code",
   "execution_count": 47,
   "metadata": {},
   "outputs": [],
   "source": [
    "# Save the model weights\n",
    "model.save(\"action_detection.h5\")"
   ]
  },
  {
   "cell_type": "code",
   "execution_count": 48,
   "metadata": {},
   "outputs": [],
   "source": [
    "prediction = model.predict(X_test)"
   ]
  },
  {
   "cell_type": "code",
   "execution_count": 53,
   "metadata": {},
   "outputs": [
    {
     "name": "stdout",
     "output_type": "stream",
     "text": [
      "iloveyou\n",
      "thanks\n",
      "thanks\n",
      "hello\n",
      "thanks\n",
      "thanks\n",
      "iloveyou\n",
      "iloveyou\n",
      "hello\n"
     ]
    }
   ],
   "source": [
    "for i in range(len(prediction)):\n",
    "    predicted_class = actions[np.argmax(prediction[i])]\n",
    "    print(predicted_class)"
   ]
  },
  {
   "cell_type": "code",
   "execution_count": 55,
   "metadata": {
    "scrolled": true
   },
   "outputs": [
    {
     "name": "stdout",
     "output_type": "stream",
     "text": [
      "iloveyou\n",
      "thanks\n",
      "thanks\n",
      "hello\n",
      "thanks\n",
      "thanks\n",
      "iloveyou\n",
      "iloveyou\n",
      "hello\n"
     ]
    }
   ],
   "source": [
    "for i in range(len(y_test)):\n",
    "    print(actions[np.argmax(y_test[i])])"
   ]
  },
  {
   "cell_type": "code",
   "execution_count": 69,
   "metadata": {},
   "outputs": [
    {
     "data": {
      "text/plain": [
       "array([[0, 0, 1],\n",
       "       [0, 1, 0],\n",
       "       [0, 1, 0],\n",
       "       [1, 0, 0],\n",
       "       [0, 1, 0],\n",
       "       [0, 1, 0],\n",
       "       [0, 0, 1],\n",
       "       [0, 0, 1],\n",
       "       [1, 0, 0]])"
      ]
     },
     "execution_count": 69,
     "metadata": {},
     "output_type": "execute_result"
    }
   ],
   "source": [
    "y_test"
   ]
  },
  {
   "cell_type": "code",
   "execution_count": 68,
   "metadata": {},
   "outputs": [
    {
     "data": {
      "text/plain": [
       "(array([2, 1, 1, 0, 1, 1, 2, 2, 0], dtype=int64),\n",
       " array([2, 1, 1, 0, 1, 1, 2, 2, 0], dtype=int64))"
      ]
     },
     "execution_count": 68,
     "metadata": {},
     "output_type": "execute_result"
    }
   ],
   "source": [
    "ytrue = np.argmax(y_test, axis=1)\n",
    "pred = np.argmax(prediction, axis=1)\n",
    "ytrue, pred"
   ]
  },
  {
   "cell_type": "code",
   "execution_count": 66,
   "metadata": {},
   "outputs": [
    {
     "data": {
      "text/plain": [
       "1.0"
      ]
     },
     "execution_count": 66,
     "metadata": {},
     "output_type": "execute_result"
    }
   ],
   "source": [
    "from sklearn.metrics import accuracy_score\n",
    "accuracy_score(ytrue, pred)"
   ]
  },
  {
   "cell_type": "code",
   "execution_count": 31,
   "metadata": {},
   "outputs": [],
   "source": [
    "mp_drawing.draw_landmarks??"
   ]
  },
  {
   "cell_type": "code",
   "execution_count": 27,
   "metadata": {},
   "outputs": [],
   "source": [
    "draw_landmarks(frame, results)"
   ]
  },
  {
   "cell_type": "code",
   "execution_count": 35,
   "metadata": {},
   "outputs": [],
   "source": [
    "draw_styled_landmarks(frame, results)"
   ]
  },
  {
   "cell_type": "code",
   "execution_count": 36,
   "metadata": {},
   "outputs": [
    {
     "data": {
      "text/plain": [
       "<matplotlib.image.AxesImage at 0x243897e3f70>"
      ]
     },
     "execution_count": 36,
     "metadata": {},
     "output_type": "execute_result"
    },
    {
     "data": {
      "image/png": "[encoded data removed]",
      "text/plain": [
       "<Figure size 432x288 with 1 Axes>"
      ]
     },
     "metadata": {
      "needs_background": "light"
     },
     "output_type": "display_data"
    }
   ],
   "source": [
    "plt.imshow(cv2.cvtColor(frame, cv2.COLOR_BGR2RGB))"
   ]
  },
  {
   "cell_type": "markdown",
   "metadata": {},
   "source": [
    "# Make Prediction in Real Time "
   ]
  },
  {
   "cell_type": "code",
   "execution_count": 10,
   "metadata": {},
   "outputs": [],
   "source": [
    "from tensorflow.keras.models import load_model\n",
    "\n",
    "model = load_model(\"action_detection.h5\")"
   ]
  },
  {
   "cell_type": "code",
   "execution_count": 19,
   "metadata": {},
   "outputs": [
    {
     "name": "stdout",
     "output_type": "stream",
     "text": [
      "(1, 20, 1662)\n",
      "[[1.0000000e+00 8.0829384e-16 2.8809407e-15]]\n",
      "hello\n"
     ]
    }
   ],
   "source": [
    "cap = cv2.VideoCapture(0)\n",
    "# cap = cv2.VideoCapture(1)\n",
    "# cap.open(\"http://192.168.10.204:8080/video\")\n",
    "with mp_holistic.Holistic(min_detection_confidence=0.5, min_tracking_confidence=0.5) as holistic:\n",
    "    while cap.isOpened():\n",
    "        #Read Feed\n",
    "        ret, frame = cap.read()\n",
    "\n",
    "        \n",
    "#         print(results)\n",
    "        \n",
    "        if cv2.waitKey(1) & 0xFF == ord(\"p\"):\n",
    "            frame_num = 0\n",
    "            Z = []\n",
    "            cv2.putText(frame, \"Starting Collections\", (40, 50), \n",
    "                                cv2.FONT_HERSHEY_SIMPLEX, 1, (0,255,0), 2, cv2.LINE_AA)\n",
    "            cv2.imshow(\"Cam Feed\", frame)\n",
    "            cv2.waitKey(2000)\n",
    "            for frame_num in range(20):\n",
    "                #Make detection\n",
    "                image, results = mediapipe_detection(frame, holistic)\n",
    "                keypoints = extract_keypoints(results)\n",
    "                Z.append(keypoints)\n",
    "            action_to_predict = np.array(Z)\n",
    "            x = np.expand_dims(action_to_predict, axis=0)\n",
    "            print(x.shape)\n",
    "            prediction = model.predict(x)\n",
    "            print(prediction)\n",
    "            print(actions[np.argmax(prediction)])\n",
    "        \n",
    "        cv2.imshow(\"Cam Feed\", frame)\n",
    "\n",
    "\n",
    "        if cv2.waitKey(10) & 0xFF == ord(\"q\"):\n",
    "            break\n",
    "\n",
    "cap.release()\n",
    "cv2.destroyAllWindows()"
   ]
  },
  {
   "cell_type": "code",
   "execution_count": 17,
   "metadata": {},
   "outputs": [],
   "source": [
    "cap.release()\n",
    "cv2.destroyAllWindows()"
   ]
  },
  {
   "cell_type": "code",
   "execution_count": null,
   "metadata": {},
   "outputs": [],
   "source": []
  },
  {
   "cell_type": "code",
   "execution_count": null,
   "metadata": {},
   "outputs": [],
   "source": []
  },
  {
   "cell_type": "code",
   "execution_count": null,
   "metadata": {},
   "outputs": [],
   "source": []
  },
  {
   "cell_type": "code",
   "execution_count": null,
   "metadata": {},
   "outputs": [],
   "source": []
  }
 ],
 "metadata": {
  "kernelspec": {
   "display_name": "Python 3",
   "language": "python",
   "name": "python3"
  },
  "language_info": {
   "codemirror_mode": {
    "name": "ipython",
    "version": 3
   },
   "file_extension": ".py",
   "mimetype": "text/x-python",
   "name": "python",
   "nbconvert_exporter": "python",
   "pygments_lexer": "ipython3",
   "version": "3.8.3"
  }
 },
 "nbformat": 4,
 "nbformat_minor": 4
}
